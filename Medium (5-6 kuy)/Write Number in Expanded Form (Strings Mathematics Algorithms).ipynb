{
 "cells": [
  {
   "cell_type": "markdown",
   "id": "d3ab49cb",
   "metadata": {},
   "source": [
    "Write Number in Expanded Form\n",
    "\n",
    "You will be given a number and you will need to return it as a string in Expanded Form. For example:\n",
    "\n",
    "expandedForm(12)    --> should return \"10 + 2\"\n",
    "\n",
    "expandedForm(42)    --> should return \"40 + 2\"\n",
    "\n",
    "expandedForm(70304) --> should return \"70000 + 300 + 4\"\n",
    "\n",
    "NOTE: All numbers will be whole numbers greater than 0."
   ]
  },
  {
   "cell_type": "code",
   "execution_count": 7,
   "id": "379a231d",
   "metadata": {},
   "outputs": [
    {
     "data": {
      "text/plain": [
       "'70000 + 300 + 4'"
      ]
     },
     "execution_count": 7,
     "metadata": {},
     "output_type": "execute_result"
    }
   ],
   "source": [
    "def expanded_form(num):\n",
    "    l = 1\n",
    "    arr = []\n",
    "    for x in str(num):\n",
    "        if x != '0':\n",
    "            k = str(int(x)*(10**(len(str(num))-l)))\n",
    "            arr.append(k)\n",
    "            l += 1\n",
    "        else:\n",
    "            l += 1\n",
    "    result = ' + '.join(arr)\n",
    "    return result\n",
    "expanded_form(70304)"
   ]
  },
  {
   "cell_type": "code",
   "execution_count": null,
   "id": "d4752a7b",
   "metadata": {},
   "outputs": [],
   "source": []
  }
 ],
 "metadata": {
  "kernelspec": {
   "display_name": "Python 3 (ipykernel)",
   "language": "python",
   "name": "python3"
  },
  "language_info": {
   "codemirror_mode": {
    "name": "ipython",
    "version": 3
   },
   "file_extension": ".py",
   "mimetype": "text/x-python",
   "name": "python",
   "nbconvert_exporter": "python",
   "pygments_lexer": "ipython3",
   "version": "3.11.5"
  }
 },
 "nbformat": 4,
 "nbformat_minor": 5
}
