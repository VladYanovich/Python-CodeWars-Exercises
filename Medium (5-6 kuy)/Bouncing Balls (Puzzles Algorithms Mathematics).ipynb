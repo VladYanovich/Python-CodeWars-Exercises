{
 "cells": [
  {
   "cell_type": "markdown",
   "id": "eb796cd6",
   "metadata": {},
   "source": [
    "A child is playing with a ball on the nth floor of a tall building. The height of this floor above ground level, h, is known.\n",
    "\n",
    "He drops the ball out of the window. The ball bounces (for example), to two-thirds of its height (a bounce of 0.66).\n",
    "\n",
    "His mother looks out of a window 1.5 meters from the ground.\n",
    "\n",
    "How many times will the mother see the ball pass in front of her window (including when it's falling and bouncing)?\n",
    "\n",
    "Three conditions must be met for a valid experiment:\n",
    "Float parameter \"h\" in meters must be greater than 0\n",
    "Float parameter \"bounce\" must be greater than 0 and less than 1\n",
    "Float parameter \"window\" must be less than h.\n",
    "If all three conditions above are fulfilled, return a positive integer, otherwise return -1.\n",
    "\n",
    "Note:\n",
    "The ball can only be seen if the height of the rebounding ball is strictly greater than the window parameter.\n",
    "\n",
    "Examples:\n",
    "- h = 3, bounce = 0.66, window = 1.5, result is 3\n",
    "\n",
    "- h = 3, bounce = 1, window = 1.5, result is -1 \n",
    "\n",
    "(Condition 2) not fulfilled)."
   ]
  },
  {
   "cell_type": "code",
   "execution_count": 94,
   "id": "01b7e648",
   "metadata": {},
   "outputs": [
    {
     "data": {
      "text/plain": [
       "1"
      ]
     },
     "execution_count": 94,
     "metadata": {},
     "output_type": "execute_result"
    }
   ],
   "source": [
    "def bouncing_ball(h, bounce, window):\n",
    "    if bounce >= 1 or bounce <= 0:\n",
    "        return -1\n",
    "    if window > h:\n",
    "        return -1\n",
    "    else:\n",
    "        n = 0\n",
    "        arr = []\n",
    "        result = 1\n",
    "        for x in range(1,int((h-window)/(1-bounce))):\n",
    "            arr.append(h*bounce)\n",
    "            h = h*bounce\n",
    "            if arr[n] <= window:\n",
    "                break\n",
    "            n += 1\n",
    "            result += 2\n",
    "    if len(arr) == 0:\n",
    "        result = -1\n",
    "    return result\n",
    "bouncing_ball(2, 0.5, 1)"
   ]
  },
  {
   "cell_type": "code",
   "execution_count": null,
   "id": "5f3da547",
   "metadata": {},
   "outputs": [],
   "source": []
  }
 ],
 "metadata": {
  "kernelspec": {
   "display_name": "Python 3 (ipykernel)",
   "language": "python",
   "name": "python3"
  },
  "language_info": {
   "codemirror_mode": {
    "name": "ipython",
    "version": 3
   },
   "file_extension": ".py",
   "mimetype": "text/x-python",
   "name": "python",
   "nbconvert_exporter": "python",
   "pygments_lexer": "ipython3",
   "version": "3.11.5"
  }
 },
 "nbformat": 4,
 "nbformat_minor": 5
}
