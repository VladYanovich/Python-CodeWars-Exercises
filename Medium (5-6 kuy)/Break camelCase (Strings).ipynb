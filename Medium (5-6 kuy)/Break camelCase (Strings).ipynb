{
 "cells": [
  {
   "cell_type": "markdown",
   "id": "f3644c79",
   "metadata": {},
   "source": [
    "Complete the solution so that the function will break up camel casing, using a space between words.\n",
    "\n",
    "Example\n",
    "\n",
    "\"camelCasing\"  =>  \"camel Casing\"\n",
    "\n",
    "\"identifier\"   =>  \"identifier\"\n",
    "\n",
    "\"\"             =>  \"\""
   ]
  },
  {
   "cell_type": "code",
   "execution_count": 95,
   "id": "e01fe553",
   "metadata": {},
   "outputs": [
    {
     "data": {
      "text/plain": [
       "'break Camel Case Cas'"
      ]
     },
     "execution_count": 95,
     "metadata": {},
     "output_type": "execute_result"
    }
   ],
   "source": [
    "def solution(s):\n",
    "    s = s.split()\n",
    "    s = ''.join(s)\n",
    "    for x in s:\n",
    "        if x == x.upper():\n",
    "            s = s.split(x)\n",
    "            s = ' {}'.format(x).join(s)\n",
    "    s = s.split()\n",
    "    s = ' '.join(s)\n",
    "    return s\n",
    "solution('breakCamelCaseCas')"
   ]
  },
  {
   "cell_type": "code",
   "execution_count": null,
   "id": "aebf560e",
   "metadata": {},
   "outputs": [],
   "source": []
  }
 ],
 "metadata": {
  "kernelspec": {
   "display_name": "Python 3 (ipykernel)",
   "language": "python",
   "name": "python3"
  },
  "language_info": {
   "codemirror_mode": {
    "name": "ipython",
    "version": 3
   },
   "file_extension": ".py",
   "mimetype": "text/x-python",
   "name": "python",
   "nbconvert_exporter": "python",
   "pygments_lexer": "ipython3",
   "version": "3.11.5"
  }
 },
 "nbformat": 4,
 "nbformat_minor": 5
}
