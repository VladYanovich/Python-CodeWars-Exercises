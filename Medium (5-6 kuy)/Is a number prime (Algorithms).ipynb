{
 "cells": [
  {
   "cell_type": "markdown",
   "id": "799d2e80",
   "metadata": {},
   "source": [
    "Define a function that takes an integer argument and returns a logical value true or false depending on if the integer is a prime.\n",
    "\n",
    "Per Wikipedia, a prime number ( or a prime ) is a natural number greater than 1 that has no positive divisors other than 1 and itself.\n",
    "\n",
    "Requirements\n",
    "\n",
    "You can assume you will be given an integer input.\n",
    "You can not assume that the integer will be only positive. You may be given negative numbers as well ( or 0 ).\n",
    "NOTE on performance: There are no fancy optimizations required, but still the most trivial solutions might time out. Numbers go up to 2^31 ( or similar, depending on language ). Looping all the way up to n, or n/2, will be too slow.\n",
    "\n",
    "Example\n",
    "\n",
    "is_prime(1)  /* false */\n",
    "\n",
    "is_prime(2)  /* true  */\n",
    "\n",
    "is_prime(-1) /* false */"
   ]
  },
  {
   "cell_type": "code",
   "execution_count": 52,
   "id": "05177cc8",
   "metadata": {},
   "outputs": [
    {
     "data": {
      "text/plain": [
       "False"
      ]
     },
     "execution_count": 52,
     "metadata": {},
     "output_type": "execute_result"
    }
   ],
   "source": [
    "def is_prime(num):\n",
    "    if num > 2:\n",
    "        root = num**0.5\n",
    "        root = round(root) + 1\n",
    "        for x in range(2,root):\n",
    "            if num/x == round(num/x, 0):\n",
    "                result = False\n",
    "                break\n",
    "            else:\n",
    "                result = True\n",
    "    elif num == 2:\n",
    "        result = True\n",
    "    else:\n",
    "        result = False\n",
    "    return result\n",
    "is_prime(2**31)"
   ]
  },
  {
   "cell_type": "code",
   "execution_count": null,
   "id": "3522f670",
   "metadata": {},
   "outputs": [],
   "source": []
  },
  {
   "cell_type": "code",
   "execution_count": null,
   "id": "b5eee4ce",
   "metadata": {},
   "outputs": [],
   "source": []
  }
 ],
 "metadata": {
  "kernelspec": {
   "display_name": "Python 3 (ipykernel)",
   "language": "python",
   "name": "python3"
  },
  "language_info": {
   "codemirror_mode": {
    "name": "ipython",
    "version": 3
   },
   "file_extension": ".py",
   "mimetype": "text/x-python",
   "name": "python",
   "nbconvert_exporter": "python",
   "pygments_lexer": "ipython3",
   "version": "3.11.5"
  }
 },
 "nbformat": 4,
 "nbformat_minor": 5
}
