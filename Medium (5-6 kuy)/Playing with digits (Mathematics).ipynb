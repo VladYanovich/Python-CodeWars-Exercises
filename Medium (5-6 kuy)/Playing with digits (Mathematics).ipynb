{
 "cells": [
  {
   "cell_type": "markdown",
   "id": "12f588e7",
   "metadata": {},
   "source": [
    "Some numbers have funny properties. For example:\n",
    "\n",
    "89 --> 8¹ + 9² = 89 * 1\n",
    "\n",
    "695 --> 6² + 9³ + 5⁴= 1390 = 695 * 2\n",
    "\n",
    "46288 --> 4³ + 6⁴+ 2⁵ + 8⁶ + 8⁷ = 2360688 = 46288 * 51\n",
    "\n",
    "Given two positive integers n and p, we want to find a positive integer k, if it exists, such that the sum of the digits of n raised to consecutive powers starting from p is equal to k * n.\n",
    "\n",
    "In other words, writing the consecutive digits of n as a, b, c, d ..., is there an integer k such that :\n",
    "\n",
    "(\n",
    "a\n",
    "p\n",
    "+\n",
    "b\n",
    "p\n",
    "+\n",
    "1\n",
    "+\n",
    "c\n",
    "p\n",
    "+\n",
    "2\n",
    "+\n",
    "d\n",
    "p\n",
    "+\n",
    "3\n",
    "+\n",
    ".\n",
    ".\n",
    ".\n",
    ")\n",
    "=\n",
    "n\n",
    "∗\n",
    "k\n",
    "(a \n",
    "p\n",
    " +b \n",
    "p+1\n",
    " +c \n",
    "p+2\n",
    " +d \n",
    "p+3\n",
    " +...)=n∗k\n",
    "If it is the case we will return k, if not return -1.\n",
    "\n",
    "Note: n and p will always be strictly positive integers.\n",
    "\n",
    "Examples:\n",
    "n = 89; p = 1 ---> 1 since 8¹ + 9² = 89 = 89 * 1\n",
    "\n",
    "n = 92; p = 1 ---> -1 since there is no k such that 9¹ + 2² equals 92 * k\n",
    "\n",
    "n = 695; p = 2 ---> 2 since 6² + 9³ + 5⁴= 1390 = 695 * 2\n",
    "\n",
    "n = 46288; p = 3 ---> 51 since 4³ + 6⁴+ 2⁵ + 8⁶ + 8⁷ = 2360688 = 46288 * 51"
   ]
  },
  {
   "cell_type": "code",
   "execution_count": 18,
   "id": "2e863212",
   "metadata": {},
   "outputs": [
    {
     "data": {
      "text/plain": [
       "51"
      ]
     },
     "execution_count": 18,
     "metadata": {},
     "output_type": "execute_result"
    }
   ],
   "source": [
    "def dig_pow(n, p):\n",
    "    sumn = 0\n",
    "    for x in str(n):\n",
    "        sumn += int(x)**p\n",
    "        p += 1\n",
    "    if int(sumn/n) == sumn/n:\n",
    "        k = int(sumn/n)\n",
    "        return k \n",
    "    else: \n",
    "        return -1\n",
    "dig_pow(46288, 3)"
   ]
  },
  {
   "cell_type": "code",
   "execution_count": null,
   "id": "073c93c7",
   "metadata": {},
   "outputs": [],
   "source": []
  }
 ],
 "metadata": {
  "kernelspec": {
   "display_name": "Python 3 (ipykernel)",
   "language": "python",
   "name": "python3"
  },
  "language_info": {
   "codemirror_mode": {
    "name": "ipython",
    "version": 3
   },
   "file_extension": ".py",
   "mimetype": "text/x-python",
   "name": "python",
   "nbconvert_exporter": "python",
   "pygments_lexer": "ipython3",
   "version": "3.11.5"
  }
 },
 "nbformat": 4,
 "nbformat_minor": 5
}
