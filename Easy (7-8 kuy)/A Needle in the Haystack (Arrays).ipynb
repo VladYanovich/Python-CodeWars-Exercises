{
 "cells": [
  {
   "cell_type": "markdown",
   "id": "4ea11a71",
   "metadata": {},
   "source": [
    "Can you find the needle in the haystack?\n",
    "\n",
    "Write a function findNeedle() that takes an array full of junk but containing one \"needle\"\n",
    "\n",
    "After your function finds the needle it should return a message (as a string) that says:\n",
    "\n",
    "\"found the needle at position \" plus the index it found the needle, so:\n",
    "\n",
    "Example(Input --> Output)\n",
    "\n",
    "[\"hay\", \"junk\", \"hay\", \"hay\", \"moreJunk\", \"needle\", \"randomJunk\"] --> \"found the needle at position 5\" "
   ]
  },
  {
   "cell_type": "code",
   "execution_count": 20,
   "id": "9092997c",
   "metadata": {},
   "outputs": [
    {
     "data": {
      "text/plain": [
       "'found the needle at position 5'"
      ]
     },
     "execution_count": 20,
     "metadata": {},
     "output_type": "execute_result"
    }
   ],
   "source": [
    "def find_needle(haystack):\n",
    "    index = haystack.index('needle');\n",
    "    return 'found the needle at position {}'.format(index)\n",
    "find_needle([\"hay\", \"junk\", \"hay\", \"hay\", \"moreJunk\", \"needle\", \"randomJunk\"])"
   ]
  },
  {
   "cell_type": "code",
   "execution_count": null,
   "id": "46f7f8f6",
   "metadata": {},
   "outputs": [],
   "source": []
  },
  {
   "cell_type": "code",
   "execution_count": null,
   "id": "d864e361",
   "metadata": {},
   "outputs": [],
   "source": []
  }
 ],
 "metadata": {
  "kernelspec": {
   "display_name": "Python 3 (ipykernel)",
   "language": "python",
   "name": "python3"
  },
  "language_info": {
   "codemirror_mode": {
    "name": "ipython",
    "version": 3
   },
   "file_extension": ".py",
   "mimetype": "text/x-python",
   "name": "python",
   "nbconvert_exporter": "python",
   "pygments_lexer": "ipython3",
   "version": "3.11.5"
  }
 },
 "nbformat": 4,
 "nbformat_minor": 5
}
