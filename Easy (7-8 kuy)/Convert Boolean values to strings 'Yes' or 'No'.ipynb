{
 "cells": [
  {
   "cell_type": "markdown",
   "id": "5f932dcf",
   "metadata": {},
   "source": [
    "Complete the method that takes a boolean value and return a \"Yes\" string for true, or a \"No\" string for false."
   ]
  },
  {
   "cell_type": "code",
   "execution_count": 2,
   "id": "2fe7bd61",
   "metadata": {},
   "outputs": [
    {
     "data": {
      "text/plain": [
       "'Yes'"
      ]
     },
     "execution_count": 2,
     "metadata": {},
     "output_type": "execute_result"
    }
   ],
   "source": [
    "def bool_to_word(boolean):\n",
    "    if boolean == True:\n",
    "        return \"Yes\"\n",
    "    else:\n",
    "        return \"No\"\n",
    "bool_to_word(True)"
   ]
  },
  {
   "cell_type": "code",
   "execution_count": null,
   "id": "6d075b9f",
   "metadata": {},
   "outputs": [],
   "source": []
  }
 ],
 "metadata": {
  "kernelspec": {
   "display_name": "Python 3 (ipykernel)",
   "language": "python",
   "name": "python3"
  },
  "language_info": {
   "codemirror_mode": {
    "name": "ipython",
    "version": 3
   },
   "file_extension": ".py",
   "mimetype": "text/x-python",
   "name": "python",
   "nbconvert_exporter": "python",
   "pygments_lexer": "ipython3",
   "version": "3.11.5"
  }
 },
 "nbformat": 4,
 "nbformat_minor": 5
}
