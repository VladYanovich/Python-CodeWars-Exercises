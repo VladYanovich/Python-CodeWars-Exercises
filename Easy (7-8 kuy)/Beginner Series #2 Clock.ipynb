{
 "cells": [
  {
   "cell_type": "markdown",
   "id": "171773d7",
   "metadata": {},
   "source": [
    "Clock shows h hours, m minutes and s seconds after midnight.\n",
    "\n",
    "Your task is to write a function which returns the time since midnight in milliseconds.\n",
    "\n",
    "Example:\n",
    "h = 0\n",
    "m = 1\n",
    "s = 1\n",
    "\n",
    "result = 61000"
   ]
  },
  {
   "cell_type": "code",
   "execution_count": 5,
   "id": "6c67384d",
   "metadata": {},
   "outputs": [
    {
     "data": {
      "text/plain": [
       "61000"
      ]
     },
     "execution_count": 5,
     "metadata": {},
     "output_type": "execute_result"
    }
   ],
   "source": [
    "def past(h, m, s):\n",
    "    result = s*1000 + m*60000 + h*3600000;\n",
    "    return result;\n",
    "past(0,1,1)"
   ]
  },
  {
   "cell_type": "code",
   "execution_count": null,
   "id": "7925d837",
   "metadata": {},
   "outputs": [],
   "source": []
  }
 ],
 "metadata": {
  "kernelspec": {
   "display_name": "Python 3 (ipykernel)",
   "language": "python",
   "name": "python3"
  },
  "language_info": {
   "codemirror_mode": {
    "name": "ipython",
    "version": 3
   },
   "file_extension": ".py",
   "mimetype": "text/x-python",
   "name": "python",
   "nbconvert_exporter": "python",
   "pygments_lexer": "ipython3",
   "version": "3.11.5"
  }
 },
 "nbformat": 4,
 "nbformat_minor": 5
}
