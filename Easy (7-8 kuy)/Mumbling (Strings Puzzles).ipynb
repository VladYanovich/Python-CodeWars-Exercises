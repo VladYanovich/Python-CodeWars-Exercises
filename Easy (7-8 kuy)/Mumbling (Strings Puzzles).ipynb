{
 "cells": [
  {
   "cell_type": "markdown",
   "id": "c8ee1697",
   "metadata": {},
   "source": [
    "This time no story, no theory. The examples below show you how to write function accum:\n",
    "\n",
    "Examples:\n",
    "\n",
    "accum(\"abcd\") -> \"A-Bb-Ccc-Dddd\"\n",
    "\n",
    "accum(\"RqaEzty\") -> \"R-Qq-Aaa-Eeee-Zzzzz-Tttttt-Yyyyyyy\"\n",
    "\n",
    "accum(\"cwAt\") -> \"C-Ww-Aaa-Tttt\"\n",
    "\n",
    "The parameter of accum is a string which includes only letters from a..z and A..Z."
   ]
  },
  {
   "cell_type": "code",
   "execution_count": 17,
   "id": "fb3be6ac",
   "metadata": {},
   "outputs": [
    {
     "data": {
      "text/plain": [
       "'R-Qq-Aaa-Eeee-Zzzzz-Tttttt-Yyyyyyy'"
      ]
     },
     "execution_count": 17,
     "metadata": {},
     "output_type": "execute_result"
    }
   ],
   "source": [
    "def accum(st):\n",
    "    arr = []\n",
    "    st = st.lower()\n",
    "    for x in range(len(st)):\n",
    "        arr.append(st[x].upper())\n",
    "        i = 0\n",
    "        while i < x:\n",
    "            arr.append(st[x])\n",
    "            i += 1\n",
    "        arr.append('-')\n",
    "    arr.pop()\n",
    "    result = \"\".join(arr)\n",
    "    return result\n",
    "accum('RqaEzty')"
   ]
  },
  {
   "cell_type": "code",
   "execution_count": null,
   "id": "7ec226dc",
   "metadata": {},
   "outputs": [],
   "source": []
  }
 ],
 "metadata": {
  "kernelspec": {
   "display_name": "Python 3 (ipykernel)",
   "language": "python",
   "name": "python3"
  },
  "language_info": {
   "codemirror_mode": {
    "name": "ipython",
    "version": 3
   },
   "file_extension": ".py",
   "mimetype": "text/x-python",
   "name": "python",
   "nbconvert_exporter": "python",
   "pygments_lexer": "ipython3",
   "version": "3.11.5"
  }
 },
 "nbformat": 4,
 "nbformat_minor": 5
}
