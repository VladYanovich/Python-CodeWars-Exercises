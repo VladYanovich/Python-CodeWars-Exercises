{
 "cells": [
  {
   "cell_type": "markdown",
   "id": "674cb7bf",
   "metadata": {},
   "source": [
    "Task\n",
    "Sum all the numbers of a given array ( cq. list ), except the highest and the lowest element ( by value, not by index! ).\n",
    "\n",
    "The highest or lowest element respectively is a single element at each edge, even if there are more than one with the same value.\n",
    "\n",
    "Mind the input validation.\n",
    "\n",
    "Example\n",
    "\n",
    "{ 6, 2, 1, 8, 10 } => 16\n",
    "\n",
    "{ 1, 1, 11, 2, 3 } => 6"
   ]
  },
  {
   "cell_type": "code",
   "execution_count": 105,
   "id": "0b20193d",
   "metadata": {},
   "outputs": [
    {
     "data": {
      "text/plain": [
       "6"
      ]
     },
     "execution_count": 105,
     "metadata": {},
     "output_type": "execute_result"
    }
   ],
   "source": [
    "def sum_array(arr):\n",
    "    if type(arr) == list:    \n",
    "        if len(arr) > 1:\n",
    "            arr.sort()\n",
    "            arr.pop(0)\n",
    "            arr.pop()\n",
    "            return sum(arr)\n",
    "        else:\n",
    "            return 0\n",
    "    else:\n",
    "        return 0\n",
    "sum_array(None)\n",
    "sum_array([1,2,3,4])\n",
    "sum_array([1, 1, 11, 2, 3])"
   ]
  },
  {
   "cell_type": "code",
   "execution_count": null,
   "id": "33c798d6",
   "metadata": {},
   "outputs": [],
   "source": []
  },
  {
   "cell_type": "code",
   "execution_count": null,
   "id": "30a294fe",
   "metadata": {},
   "outputs": [],
   "source": []
  }
 ],
 "metadata": {
  "kernelspec": {
   "display_name": "Python 3 (ipykernel)",
   "language": "python",
   "name": "python3"
  },
  "language_info": {
   "codemirror_mode": {
    "name": "ipython",
    "version": 3
   },
   "file_extension": ".py",
   "mimetype": "text/x-python",
   "name": "python",
   "nbconvert_exporter": "python",
   "pygments_lexer": "ipython3",
   "version": "3.11.5"
  }
 },
 "nbformat": 4,
 "nbformat_minor": 5
}
