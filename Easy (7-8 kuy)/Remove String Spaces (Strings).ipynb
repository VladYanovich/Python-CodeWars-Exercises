{
 "cells": [
  {
   "cell_type": "markdown",
   "id": "f27c028d",
   "metadata": {},
   "source": [
    "Write a function that removes the spaces from the string, then return the resultant string.\n",
    "\n",
    "Examples:\n",
    "\n",
    "Input -> Output\n",
    "\n",
    "\"8 j 8   mBliB8g  imjB8B8  jl  B\" -> \"8j8mBliB8gimjB8B8jlB\"\n",
    "\n",
    "\"8 8 Bi fk8h B 8 BB8B B B  B888 c hl8 BhB fd\" -> \"88Bifk8hB8BB8BBBB888chl8BhBfd\"\n",
    "\n",
    "\"8aaaaa dddd r     \" -> \"8aaaaaddddr\""
   ]
  },
  {
   "cell_type": "code",
   "execution_count": 6,
   "id": "ea99320b",
   "metadata": {},
   "outputs": [
    {
     "data": {
      "text/plain": [
       "'8aaaaaddddr'"
      ]
     },
     "execution_count": 6,
     "metadata": {},
     "output_type": "execute_result"
    }
   ],
   "source": [
    "def no_space(x):\n",
    "    return x.replace(' ','')\n",
    "no_space('8aaaaa dddd r ')"
   ]
  },
  {
   "cell_type": "code",
   "execution_count": null,
   "id": "e4aa5310",
   "metadata": {},
   "outputs": [],
   "source": []
  }
 ],
 "metadata": {
  "kernelspec": {
   "display_name": "Python 3 (ipykernel)",
   "language": "python",
   "name": "python3"
  },
  "language_info": {
   "codemirror_mode": {
    "name": "ipython",
    "version": 3
   },
   "file_extension": ".py",
   "mimetype": "text/x-python",
   "name": "python",
   "nbconvert_exporter": "python",
   "pygments_lexer": "ipython3",
   "version": "3.11.5"
  }
 },
 "nbformat": 4,
 "nbformat_minor": 5
}
