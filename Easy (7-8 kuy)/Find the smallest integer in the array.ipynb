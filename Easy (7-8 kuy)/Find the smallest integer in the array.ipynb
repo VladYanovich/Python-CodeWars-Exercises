{
 "cells": [
  {
   "cell_type": "markdown",
   "id": "7e9ca819",
   "metadata": {},
   "source": [
    "Given an array of integers your solution should find the smallest integer.\n",
    "\n",
    "For example:\n",
    "\n",
    "Given [34, 15, 88, 2] your solution will return 2\n",
    "\n",
    "Given [34, -345, -1, 100] your solution will return -345\n",
    "\n",
    "You can assume, for the purpose of this kata, that the supplied array will not be empty."
   ]
  },
  {
   "cell_type": "code",
   "execution_count": 3,
   "id": "f739c2e7",
   "metadata": {},
   "outputs": [
    {
     "data": {
      "text/plain": [
       "-345"
      ]
     },
     "execution_count": 3,
     "metadata": {},
     "output_type": "execute_result"
    }
   ],
   "source": [
    "def find_smallest_int(arr):\n",
    "    arr.sort()\n",
    "    result = arr.pop(0)\n",
    "    return result\n",
    "find_smallest_int([34, -345, -1, 100])"
   ]
  },
  {
   "cell_type": "code",
   "execution_count": null,
   "id": "d586c9a4",
   "metadata": {},
   "outputs": [],
   "source": []
  },
  {
   "cell_type": "code",
   "execution_count": null,
   "id": "bef8458b",
   "metadata": {},
   "outputs": [],
   "source": []
  }
 ],
 "metadata": {
  "kernelspec": {
   "display_name": "Python 3 (ipykernel)",
   "language": "python",
   "name": "python3"
  },
  "language_info": {
   "codemirror_mode": {
    "name": "ipython",
    "version": 3
   },
   "file_extension": ".py",
   "mimetype": "text/x-python",
   "name": "python",
   "nbconvert_exporter": "python",
   "pygments_lexer": "ipython3",
   "version": "3.11.5"
  }
 },
 "nbformat": 4,
 "nbformat_minor": 5
}
