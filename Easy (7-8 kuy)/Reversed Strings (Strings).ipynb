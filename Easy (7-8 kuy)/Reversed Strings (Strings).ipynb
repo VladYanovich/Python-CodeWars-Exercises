{
 "cells": [
  {
   "cell_type": "markdown",
   "id": "9ef60251",
   "metadata": {},
   "source": [
    "Complete the solution so that it reverses the string passed into it.\n",
    "\n",
    "'world'  =>  'dlrow'\n",
    "\n",
    "'word'   =>  'drow'"
   ]
  },
  {
   "cell_type": "code",
   "execution_count": 62,
   "id": "c0956677",
   "metadata": {},
   "outputs": [
    {
     "data": {
      "text/plain": [
       "'drow'"
      ]
     },
     "execution_count": 62,
     "metadata": {},
     "output_type": "execute_result"
    }
   ],
   "source": [
    "def solution(string):\n",
    "    return string[::-1]\n",
    "solution('word')"
   ]
  }
 ],
 "metadata": {
  "kernelspec": {
   "display_name": "Python 3 (ipykernel)",
   "language": "python",
   "name": "python3"
  },
  "language_info": {
   "codemirror_mode": {
    "name": "ipython",
    "version": 3
   },
   "file_extension": ".py",
   "mimetype": "text/x-python",
   "name": "python",
   "nbconvert_exporter": "python",
   "pygments_lexer": "ipython3",
   "version": "3.11.5"
  }
 },
 "nbformat": 4,
 "nbformat_minor": 5
}
