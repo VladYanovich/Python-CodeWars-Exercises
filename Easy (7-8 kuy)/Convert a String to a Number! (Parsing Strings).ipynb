{
 "cells": [
  {
   "cell_type": "markdown",
   "id": "7fa67b78",
   "metadata": {},
   "source": [
    "Note: This kata is inspired by Convert a Number to a String!. Try that one too.\n",
    "\n",
    "Description\n",
    "We need a function that can transform a string into a number. What ways of achieving this do you know?\n",
    "\n",
    "Note: Don't worry, all inputs will be strings, and every string is a perfectly valid representation of an integral number.\n",
    "\n",
    "Examples\n",
    "\n",
    "\"1234\" --> 1234\n",
    "\n",
    "\"605\"  --> 605\n",
    "\n",
    "\"1405\" --> 1405\n",
    "\n",
    "\"-7\" --> -7"
   ]
  },
  {
   "cell_type": "code",
   "execution_count": 2,
   "id": "3071c415",
   "metadata": {},
   "outputs": [
    {
     "data": {
      "text/plain": [
       "12"
      ]
     },
     "execution_count": 2,
     "metadata": {},
     "output_type": "execute_result"
    }
   ],
   "source": [
    "def string_to_number(s):\n",
    "    return int(s)\n",
    "string_to_number('12')"
   ]
  },
  {
   "cell_type": "code",
   "execution_count": null,
   "id": "3f346a65",
   "metadata": {},
   "outputs": [],
   "source": []
  }
 ],
 "metadata": {
  "kernelspec": {
   "display_name": "Python 3 (ipykernel)",
   "language": "python",
   "name": "python3"
  },
  "language_info": {
   "codemirror_mode": {
    "name": "ipython",
    "version": 3
   },
   "file_extension": ".py",
   "mimetype": "text/x-python",
   "name": "python",
   "nbconvert_exporter": "python",
   "pygments_lexer": "ipython3",
   "version": "3.11.5"
  }
 },
 "nbformat": 4,
 "nbformat_minor": 5
}
