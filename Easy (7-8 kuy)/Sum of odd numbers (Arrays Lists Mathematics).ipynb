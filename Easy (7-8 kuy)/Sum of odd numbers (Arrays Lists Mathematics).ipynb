{
 "cells": [
  {
   "attachments": {},
   "cell_type": "markdown",
   "id": "77f81a29",
   "metadata": {},
   "source": [
    "Given the triangle of consecutive odd numbers:\n",
    "\n",
    "                1\n",
    "             3     5\n",
    "          7     9    11\n",
    "       13    15    17    19\n",
    "    21    23    25    27    29\n",
    "\n",
    "Calculate the sum of the numbers in the nth row of this triangle (starting at index 1) e.g.: (Input --> Output)\n",
    "\n",
    "1 -->  1\n",
    "\n",
    "2 --> 3 + 5 = 8\n"
   ]
  },
  {
   "cell_type": "code",
   "execution_count": 149,
   "id": "7eac3e0a",
   "metadata": {},
   "outputs": [
    {
     "data": {
      "text/plain": [
       "64"
      ]
     },
     "execution_count": 149,
     "metadata": {},
     "output_type": "execute_result"
    }
   ],
   "source": [
    "def row_sum_odd_numbers(n):\n",
    "    seq = [];\n",
    "    i = 0;\n",
    "    for x in range(1,n+1):\n",
    "        i = i + x\n",
    "    for x in range(i):\n",
    "        seq.append(2*x + 1)\n",
    "    end = len(seq)\n",
    "    start = end - n\n",
    "    result = sum(seq[start:end])\n",
    "    return result\n",
    "row_sum_odd_numbers(4)       "
   ]
  },
  {
   "cell_type": "code",
   "execution_count": 146,
   "id": "65029a0a",
   "metadata": {},
   "outputs": [
    {
     "data": {
      "text/plain": [
       "64"
      ]
     },
     "execution_count": 146,
     "metadata": {},
     "output_type": "execute_result"
    }
   ],
   "source": [
    "# easy solution\n",
    "def row_sum_odd_numbers_easy(n):\n",
    "    return n**3;\n",
    "row_sum_odd_numbers_easy(4)"
   ]
  },
  {
   "cell_type": "code",
   "execution_count": null,
   "id": "7348c945",
   "metadata": {},
   "outputs": [],
   "source": []
  },
  {
   "cell_type": "code",
   "execution_count": null,
   "id": "82b1e17f",
   "metadata": {},
   "outputs": [],
   "source": []
  }
 ],
 "metadata": {
  "kernelspec": {
   "display_name": "Python 3 (ipykernel)",
   "language": "python",
   "name": "python3"
  },
  "language_info": {
   "codemirror_mode": {
    "name": "ipython",
    "version": 3
   },
   "file_extension": ".py",
   "mimetype": "text/x-python",
   "name": "python",
   "nbconvert_exporter": "python",
   "pygments_lexer": "ipython3",
   "version": "3.11.5"
  }
 },
 "nbformat": 4,
 "nbformat_minor": 5
}
