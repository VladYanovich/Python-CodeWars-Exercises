{
 "cells": [
  {
   "cell_type": "markdown",
   "id": "1db17537",
   "metadata": {},
   "source": [
    "In this little assignment you are given a string of space separated numbers, and have to return the highest and lowest number.\n",
    "\n",
    "Examples\n",
    "\n",
    "high_and_low(\"1 2 3 4 5\")  # return \"5 1\"\n",
    "\n",
    "high_and_low(\"1 2 -3 4 5\") # return \"5 -3\"\n",
    "\n",
    "high_and_low(\"1 9 3 4 -5\") # return \"9 -5\"\n",
    "\n",
    "Notes\n",
    "\n",
    "All numbers are valid Int32, no need to validate them.\n",
    "There will always be at least one number in the input string.\n",
    "Output string must be two numbers separated by a single space, and highest number is first."
   ]
  },
  {
   "cell_type": "code",
   "execution_count": 56,
   "id": "78c2ffaa",
   "metadata": {},
   "outputs": [
    {
     "data": {
      "text/plain": [
       "'42 42'"
      ]
     },
     "execution_count": 56,
     "metadata": {},
     "output_type": "execute_result"
    }
   ],
   "source": [
    "def high_and_low(numbers):\n",
    "    l_numbers = numbers.split(' ')\n",
    "    ok_numbers = list(map(int, l_numbers))\n",
    "    ok_numbers.sort()\n",
    "    if len(ok_numbers) == 1:\n",
    "        return str(ok_numbers[0]) + ' ' + str(ok_numbers[0])\n",
    "    elif len(ok_numbers) == 0:\n",
    "        return ''\n",
    "    else:\n",
    "        high = ok_numbers.pop()\n",
    "        low = ok_numbers.pop(0)\n",
    "        result = str(high) + ' ' + str(low)\n",
    "        return result\n",
    "high_and_low(\"42\")"
   ]
  },
  {
   "cell_type": "code",
   "execution_count": null,
   "id": "0e1a9d06",
   "metadata": {},
   "outputs": [],
   "source": []
  }
 ],
 "metadata": {
  "kernelspec": {
   "display_name": "Python 3 (ipykernel)",
   "language": "python",
   "name": "python3"
  },
  "language_info": {
   "codemirror_mode": {
    "name": "ipython",
    "version": 3
   },
   "file_extension": ".py",
   "mimetype": "text/x-python",
   "name": "python",
   "nbconvert_exporter": "python",
   "pygments_lexer": "ipython3",
   "version": "3.11.5"
  }
 },
 "nbformat": 4,
 "nbformat_minor": 5
}
