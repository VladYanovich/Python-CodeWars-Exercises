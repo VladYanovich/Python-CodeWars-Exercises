{
 "cells": [
  {
   "cell_type": "markdown",
   "id": "0e69c7cd",
   "metadata": {},
   "source": [
    "In this simple assignment you are given a number and have to make it negative. But maybe the number is already negative?\n",
    "\n",
    "Examples\n",
    "\n",
    "make_negative(1);  # return -1\n",
    "\n",
    "make_negative(-5); # return -5\n",
    "\n",
    "make_negative(0);  # return 0\n",
    "\n",
    "Notes\n",
    "\n",
    "The number can be negative already, in which case no change is required.\n",
    "Zero (0) is not checked for any specific sign. Negative zeros make no mathematical sense."
   ]
  },
  {
   "cell_type": "code",
   "execution_count": 5,
   "id": "ca2db414",
   "metadata": {},
   "outputs": [
    {
     "data": {
      "text/plain": [
       "-9"
      ]
     },
     "execution_count": 5,
     "metadata": {},
     "output_type": "execute_result"
    }
   ],
   "source": [
    "def make_negative( number ):\n",
    "    if number <= 0:\n",
    "        return number;\n",
    "    else:\n",
    "        return -number;\n",
    "make_negative(9)"
   ]
  },
  {
   "cell_type": "code",
   "execution_count": null,
   "id": "3d69cf7a",
   "metadata": {},
   "outputs": [],
   "source": []
  }
 ],
 "metadata": {
  "kernelspec": {
   "display_name": "Python 3 (ipykernel)",
   "language": "python",
   "name": "python3"
  },
  "language_info": {
   "codemirror_mode": {
    "name": "ipython",
    "version": 3
   },
   "file_extension": ".py",
   "mimetype": "text/x-python",
   "name": "python",
   "nbconvert_exporter": "python",
   "pygments_lexer": "ipython3",
   "version": "3.11.5"
  }
 },
 "nbformat": 4,
 "nbformat_minor": 5
}
