{
 "cells": [
  {
   "cell_type": "markdown",
   "id": "7936cfee",
   "metadata": {},
   "source": [
    "Write a function which calculates the average of the numbers in a given list.\n",
    "\n",
    "Note: Empty arrays should return 0."
   ]
  },
  {
   "cell_type": "code",
   "execution_count": 8,
   "id": "0979292e",
   "metadata": {},
   "outputs": [
    {
     "data": {
      "text/plain": [
       "0"
      ]
     },
     "execution_count": 8,
     "metadata": {},
     "output_type": "execute_result"
    }
   ],
   "source": [
    "def find_average(numbers):\n",
    "    if len(numbers) > 0:\n",
    "        return sum(numbers)/len(numbers)\n",
    "    else:\n",
    "        return 0\n",
    "find_average([])"
   ]
  },
  {
   "cell_type": "code",
   "execution_count": null,
   "id": "284604f1",
   "metadata": {},
   "outputs": [],
   "source": []
  }
 ],
 "metadata": {
  "kernelspec": {
   "display_name": "Python 3 (ipykernel)",
   "language": "python",
   "name": "python3"
  },
  "language_info": {
   "codemirror_mode": {
    "name": "ipython",
    "version": 3
   },
   "file_extension": ".py",
   "mimetype": "text/x-python",
   "name": "python",
   "nbconvert_exporter": "python",
   "pygments_lexer": "ipython3",
   "version": "3.11.5"
  }
 },
 "nbformat": 4,
 "nbformat_minor": 5
}
