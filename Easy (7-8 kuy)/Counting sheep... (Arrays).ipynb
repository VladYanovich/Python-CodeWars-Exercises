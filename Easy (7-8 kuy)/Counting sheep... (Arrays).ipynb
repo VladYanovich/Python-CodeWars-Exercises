{
 "cells": [
  {
   "cell_type": "markdown",
   "id": "4f7280a2",
   "metadata": {},
   "source": [
    "Consider an array/list of sheep where some sheep may be missing from their place. We need a function that counts the number of sheep present in the array (true means present).\n",
    "\n",
    "For example,\n",
    "\n",
    "[True,  True,  True,  False,\n",
    "  True,  True,  True,  True ,\n",
    "  True,  False, True,  False,\n",
    "  True,  False, False, True ,\n",
    "  True,  True,  True,  True ,\n",
    "  False, False, True,  True]\n",
    "  \n",
    "The correct answer would be 17.\n",
    "\n",
    "Hint: Don't forget to check for bad values like null/undefined"
   ]
  },
  {
   "cell_type": "code",
   "execution_count": 4,
   "id": "fcd15559",
   "metadata": {},
   "outputs": [
    {
     "data": {
      "text/plain": [
       "3"
      ]
     },
     "execution_count": 4,
     "metadata": {},
     "output_type": "execute_result"
    }
   ],
   "source": [
    "def count_sheeps(sheep):\n",
    "    return sheep.count(True)\n",
    "count_sheeps([True, True, True, False])"
   ]
  },
  {
   "cell_type": "code",
   "execution_count": null,
   "id": "7551a4d7",
   "metadata": {},
   "outputs": [],
   "source": []
  }
 ],
 "metadata": {
  "kernelspec": {
   "display_name": "Python 3 (ipykernel)",
   "language": "python",
   "name": "python3"
  },
  "language_info": {
   "codemirror_mode": {
    "name": "ipython",
    "version": 3
   },
   "file_extension": ".py",
   "mimetype": "text/x-python",
   "name": "python",
   "nbconvert_exporter": "python",
   "pygments_lexer": "ipython3",
   "version": "3.11.5"
  }
 },
 "nbformat": 4,
 "nbformat_minor": 5
}
