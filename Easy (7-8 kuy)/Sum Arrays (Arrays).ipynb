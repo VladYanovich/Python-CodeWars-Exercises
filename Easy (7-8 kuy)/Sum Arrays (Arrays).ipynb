{
 "cells": [
  {
   "cell_type": "markdown",
   "id": "156c8d35",
   "metadata": {},
   "source": [
    "Write a function that takes an array of numbers and returns the sum of the numbers. The numbers can be negative or non-integer. If the array does not contain any numbers then you should return 0.\n",
    "\n",
    "Examples\n",
    "Input: [1, 5.2, 4, 0, -1]\n",
    "Output: 9.2\n",
    "\n",
    "Input: []\n",
    "Output: 0\n",
    "\n",
    "Input: [-2.398]\n",
    "Output: -2.398"
   ]
  },
  {
   "cell_type": "code",
   "execution_count": 6,
   "id": "fe37a334",
   "metadata": {},
   "outputs": [
    {
     "data": {
      "text/plain": [
       "-2.398"
      ]
     },
     "execution_count": 6,
     "metadata": {},
     "output_type": "execute_result"
    }
   ],
   "source": [
    "def sum_array(a):\n",
    "    if len(a) > 0:\n",
    "        return sum(a);\n",
    "    else:\n",
    "        return 0;\n",
    "sum_array([-2.398])"
   ]
  },
  {
   "cell_type": "code",
   "execution_count": null,
   "id": "363978a2",
   "metadata": {},
   "outputs": [],
   "source": []
  }
 ],
 "metadata": {
  "kernelspec": {
   "display_name": "Python 3 (ipykernel)",
   "language": "python",
   "name": "python3"
  },
  "language_info": {
   "codemirror_mode": {
    "name": "ipython",
    "version": 3
   },
   "file_extension": ".py",
   "mimetype": "text/x-python",
   "name": "python",
   "nbconvert_exporter": "python",
   "pygments_lexer": "ipython3",
   "version": "3.11.5"
  }
 },
 "nbformat": 4,
 "nbformat_minor": 5
}
