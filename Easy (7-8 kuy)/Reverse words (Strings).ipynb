{
 "cells": [
  {
   "cell_type": "markdown",
   "id": "cf33a5df",
   "metadata": {},
   "source": [
    "Complete the function that accepts a string parameter, and reverses each word in the string. All spaces in the string should be retained.\n",
    "\n",
    "Examples\n",
    "\n",
    "\"This is an example!\" ==> \"sihT si na !elpmaxe\"\n",
    "\n",
    "\"double  spaces\"      ==> \"elbuod  secaps\""
   ]
  },
  {
   "cell_type": "code",
   "execution_count": 24,
   "id": "e100c04a",
   "metadata": {},
   "outputs": [
    {
     "data": {
      "text/plain": [
       "'elbuod  secaps'"
      ]
     },
     "execution_count": 24,
     "metadata": {},
     "output_type": "execute_result"
    }
   ],
   "source": [
    "def reverse_words(text):\n",
    "    s_text = text.split(' ')\n",
    "    new_text = []\n",
    "    for x in range(len(s_text)):\n",
    "        new_text.append(s_text[x][::-1])\n",
    "    result = ' '.join(new_text)\n",
    "    return result\n",
    "reverse_words('double  spaces')"
   ]
  },
  {
   "cell_type": "code",
   "execution_count": null,
   "id": "2c299580",
   "metadata": {},
   "outputs": [],
   "source": []
  }
 ],
 "metadata": {
  "kernelspec": {
   "display_name": "Python 3 (ipykernel)",
   "language": "python",
   "name": "python3"
  },
  "language_info": {
   "codemirror_mode": {
    "name": "ipython",
    "version": 3
   },
   "file_extension": ".py",
   "mimetype": "text/x-python",
   "name": "python",
   "nbconvert_exporter": "python",
   "pygments_lexer": "ipython3",
   "version": "3.11.5"
  }
 },
 "nbformat": 4,
 "nbformat_minor": 5
}
