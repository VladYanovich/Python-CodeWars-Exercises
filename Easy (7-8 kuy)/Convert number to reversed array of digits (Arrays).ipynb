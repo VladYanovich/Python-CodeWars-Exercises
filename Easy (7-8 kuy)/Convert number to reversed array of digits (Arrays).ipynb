{
 "cells": [
  {
   "cell_type": "markdown",
   "id": "a22bf95c",
   "metadata": {},
   "source": [
    "Convert number to reversed array of digits\n",
    "Given a random non-negative number, you have to return the digits of this number within an array in reverse order.\n",
    "\n",
    "Example(Input => Output):\n",
    "\n",
    "35231 => [1,3,2,5,3]\n",
    "\n",
    "0 => [0]"
   ]
  },
  {
   "cell_type": "code",
   "execution_count": 11,
   "id": "f8491923",
   "metadata": {},
   "outputs": [
    {
     "data": {
      "text/plain": [
       "[1, 3, 2, 5, 3]"
      ]
     },
     "execution_count": 11,
     "metadata": {},
     "output_type": "execute_result"
    }
   ],
   "source": [
    "def digitize(n):\n",
    "    result = list(map(int,str(n)))\n",
    "    result.reverse()\n",
    "    return result\n",
    "digitize(35231)"
   ]
  },
  {
   "cell_type": "code",
   "execution_count": null,
   "id": "c63bccb4",
   "metadata": {},
   "outputs": [],
   "source": []
  }
 ],
 "metadata": {
  "kernelspec": {
   "display_name": "Python 3 (ipykernel)",
   "language": "python",
   "name": "python3"
  },
  "language_info": {
   "codemirror_mode": {
    "name": "ipython",
    "version": 3
   },
   "file_extension": ".py",
   "mimetype": "text/x-python",
   "name": "python",
   "nbconvert_exporter": "python",
   "pygments_lexer": "ipython3",
   "version": "3.11.5"
  }
 },
 "nbformat": 4,
 "nbformat_minor": 5
}
