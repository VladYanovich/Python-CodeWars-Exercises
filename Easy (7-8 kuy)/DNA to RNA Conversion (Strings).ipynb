{
 "cells": [
  {
   "cell_type": "markdown",
   "id": "4a394716",
   "metadata": {},
   "source": [
    "Deoxyribonucleic acid, DNA is the primary information storage molecule in biological systems. It is composed of four nucleic acid bases Guanine ('G'), Cytosine ('C'), Adenine ('A'), and Thymine ('T').\n",
    "\n",
    "Ribonucleic acid, RNA, is the primary messenger molecule in cells. RNA differs slightly from DNA its chemical structure and contains no Thymine. In RNA Thymine is replaced by another nucleic acid Uracil ('U').\n",
    "\n",
    "Create a function which translates a given DNA string into RNA.\n",
    "\n",
    "For example:\n",
    "\n",
    "\"GCAT\"  =>  \"GCAU\"\n",
    "The input string can be of arbitrary length - in particular, it may be empty. All input is guaranteed to be valid, i.e. each input string will only ever consist of 'G', 'C', 'A' and/or 'T'.\n"
   ]
  },
  {
   "cell_type": "code",
   "execution_count": 17,
   "id": "c89f043b",
   "metadata": {},
   "outputs": [
    {
     "data": {
      "text/plain": [
       "'GCAU'"
      ]
     },
     "execution_count": 17,
     "metadata": {},
     "output_type": "execute_result"
    }
   ],
   "source": [
    "def dna_to_rna(dna):\n",
    "    rna = dna.upper().replace('T','U');\n",
    "    return rna;\n",
    "dna_to_rna('GCAT');"
   ]
  },
  {
   "cell_type": "code",
   "execution_count": null,
   "id": "5a2f0393",
   "metadata": {},
   "outputs": [],
   "source": []
  }
 ],
 "metadata": {
  "kernelspec": {
   "display_name": "Python 3 (ipykernel)",
   "language": "python",
   "name": "python3"
  },
  "language_info": {
   "codemirror_mode": {
    "name": "ipython",
    "version": 3
   },
   "file_extension": ".py",
   "mimetype": "text/x-python",
   "name": "python",
   "nbconvert_exporter": "python",
   "pygments_lexer": "ipython3",
   "version": "3.11.5"
  }
 },
 "nbformat": 4,
 "nbformat_minor": 5
}
