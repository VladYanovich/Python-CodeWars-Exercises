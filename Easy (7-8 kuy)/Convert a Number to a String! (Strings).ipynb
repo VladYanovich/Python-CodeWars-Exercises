{
 "cells": [
  {
   "cell_type": "markdown",
   "id": "cc7c3657",
   "metadata": {},
   "source": [
    "We need a function that can transform a number (integer) into a string.\n",
    "\n",
    "What ways of achieving this do you know?\n",
    "\n",
    "Examples (input --> output):\n",
    "\n",
    "123  --> \"123\"\n",
    "\n",
    "999  --> \"999\"\n",
    "\n",
    "-100 --> \"-100\"\n"
   ]
  },
  {
   "cell_type": "code",
   "execution_count": 11,
   "id": "f5781f84",
   "metadata": {},
   "outputs": [
    {
     "data": {
      "text/plain": [
       "'-6'"
      ]
     },
     "execution_count": 11,
     "metadata": {},
     "output_type": "execute_result"
    }
   ],
   "source": [
    "def number_to_string(num):\n",
    "    result = str(num);\n",
    "    return result;\n",
    "number_to_string(-6)"
   ]
  },
  {
   "cell_type": "code",
   "execution_count": null,
   "id": "290df3c8",
   "metadata": {},
   "outputs": [],
   "source": []
  }
 ],
 "metadata": {
  "kernelspec": {
   "display_name": "Python 3 (ipykernel)",
   "language": "python",
   "name": "python3"
  },
  "language_info": {
   "codemirror_mode": {
    "name": "ipython",
    "version": 3
   },
   "file_extension": ".py",
   "mimetype": "text/x-python",
   "name": "python",
   "nbconvert_exporter": "python",
   "pygments_lexer": "ipython3",
   "version": "3.11.5"
  }
 },
 "nbformat": 4,
 "nbformat_minor": 5
}
