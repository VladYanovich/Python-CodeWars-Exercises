{
 "cells": [
  {
   "cell_type": "markdown",
   "id": "0b5fb20e",
   "metadata": {},
   "source": [
    "Introduction\n",
    "The first century spans from the year 1 up to and including the year 100, the second century - from the year 101 up to and including the year 200, etc.\n",
    "\n",
    "Task\n",
    "Given a year, return the century it is in.\n",
    "\n",
    "Examples\n",
    "\n",
    "1705 --> 18\n",
    "\n",
    "1900 --> 19\n",
    "\n",
    "1601 --> 17\n",
    "\n",
    "2000 --> 20\n",
    "\n",
    "2742 --> 28\n"
   ]
  },
  {
   "cell_type": "code",
   "execution_count": 21,
   "id": "deb36252",
   "metadata": {},
   "outputs": [
    {
     "data": {
      "text/plain": [
       "28"
      ]
     },
     "execution_count": 21,
     "metadata": {},
     "output_type": "execute_result"
    }
   ],
   "source": [
    "def century(year):\n",
    "    number = str(year + 99)\n",
    "    result = int(number[:-2])\n",
    "    return result\n",
    "century(2742)"
   ]
  },
  {
   "cell_type": "code",
   "execution_count": null,
   "id": "e40e7beb",
   "metadata": {},
   "outputs": [],
   "source": []
  },
  {
   "cell_type": "code",
   "execution_count": null,
   "id": "015044c0",
   "metadata": {},
   "outputs": [],
   "source": []
  }
 ],
 "metadata": {
  "kernelspec": {
   "display_name": "Python 3 (ipykernel)",
   "language": "python",
   "name": "python3"
  },
  "language_info": {
   "codemirror_mode": {
    "name": "ipython",
    "version": 3
   },
   "file_extension": ".py",
   "mimetype": "text/x-python",
   "name": "python",
   "nbconvert_exporter": "python",
   "pygments_lexer": "ipython3",
   "version": "3.11.5"
  }
 },
 "nbformat": 4,
 "nbformat_minor": 5
}
